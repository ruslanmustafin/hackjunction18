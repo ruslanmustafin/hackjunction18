{
 "cells": [
  {
   "cell_type": "markdown",
   "metadata": {},
   "source": [
    "# Sentiment Analysis\n",
    "\n",
    "Hi 🙂, if you are seeing this notebook, you've succesfully started your first project on FloydHub, hooray! 🚀\n",
    "\n",
    "[Sentiment analysis](https://en.wikipedia.org/wiki/Sentiment_analysis) is one of the most common [NLP](https://en.wikipedia.org/wiki/Natural-language_processing) problems. The goal is to analyze a text and predict whether the underlying sentiment is positive, negative or neutral. \n",
    "*What can you use it for?* Here are a few ideas - measure sentiment of customer support tickets, survey responses, social media, and movie reviews! \n",
    "\n",
    "### Predicting sentiment of movie reviews\n",
    "\n",
    "In this notebook we will build a [Convolutional Neural Network](http://www.wildml.com/2015/11/understanding-convolutional-neural-networks-for-nlp/) (CNN) classifier to predict the sentiment (positive or negative) of movie reviews. \n",
    "\n",
    "<img src=\"https://github.com/floydhub/sentiment-analysis-template/raw/master/images/sentiment.jpg\" width=\"800\" height=\"800\" align=\"center\"/>\n",
    "\n",
    "We will use the [Stanford Large Movie Reviews](http://ai.stanford.edu/~amaas/data/sentiment/) dataset for training our model. The dataset is compiled from a collection of 50,000 reviews from IMDB. It contains an equal number of positive and negative reviews. The authors considered only highly polarized reviews. Negative reviews have scores ≤ 4 (out of 10), while positive reviews have score ≥ 7. Neutral reviews are not included. The dataset is divided evenly into training and test sets.\n",
    "\n",
    "We will:\n",
    "- Preprocess text data for NLP\n",
    "- Build and train a 1-D CNN using Keras and Tensorflow\n",
    "- Evaluate our model on the test set\n",
    "- Run the model on your own movie reviews!\n",
    "\n",
    "### Instructions\n",
    "\n",
    "- To execute a code cell, click on the cell and press `Shift + Enter` (shortcut for Run).\n",
    "- To learn more about Workspaces, check out the [Getting Started Notebook](get_started_workspace.ipynb).\n",
    "- **Tip**: *Feel free to try this Notebook with your own data and on your own super awesome sentiment classification task.*\n",
    "\n",
    "Now, let's get started! 🚀"
   ]
  },
  {
   "cell_type": "markdown",
   "metadata": {},
   "source": [
    "## Initial Setup\n",
    "\n",
    "Let's start by importing some packages"
   ]
  },
  {
   "cell_type": "code",
   "execution_count": 3,
   "metadata": {},
   "outputs": [
    {
     "name": "stderr",
     "output_type": "stream",
     "text": [
      "Using TensorFlow backend.\n"
     ]
    }
   ],
   "source": [
    "from keras.preprocessing import sequence\n",
    "from keras.models import Sequential\n",
    "from keras.layers import Dense, Embedding, GlobalMaxPooling1D, Flatten, Conv1D, Dropout, Activation\n",
    "from keras.preprocessing.text import Tokenizer\n",
    "\n",
    "import tensorflow as tf\n",
    "import matplotlib.pyplot as plt\n",
    "import numpy as np\n",
    "import pandas as pd\n",
    "\n",
    "import os\n",
    "import re\n",
    "import string\n",
    "\n",
    "# For reproducibility\n",
    "from tensorflow import set_random_seed\n",
    "from numpy.random import seed\n",
    "seed(1)\n",
    "set_random_seed(2)"
   ]
  },
  {
   "cell_type": "markdown",
   "metadata": {},
   "source": [
    "## Training Parameters\n",
    "\n",
    "We'll set the hyperparameters for training our model. If you understand what they mean, feel free to play around - otherwise, we recommend keeping the defaults for your first run 🙂"
   ]
  },
  {
   "cell_type": "code",
   "execution_count": 4,
   "metadata": {},
   "outputs": [],
   "source": [
    "# Hyperparams if GPU is available\n",
    "if tf.test.is_gpu_available():\n",
    "    # GPU\n",
    "    BATCH_SIZE = 128 # Number of examples used in each iteration\n",
    "    EPOCHS = 2 # Number of passes through entire dataset\n",
    "    VOCAB_SIZE = 30000 # Size of vocabulary dictionary\n",
    "    MAX_LEN = 500 # Max length of review (in words)\n",
    "    EMBEDDING_DIM = 40 # Dimension of word embedding vector\n",
    "\n",
    "# Hyperparams for CPU training\n",
    "else:\n",
    "    # CPU\n",
    "    BATCH_SIZE = 32\n",
    "    EPOCHS = 2\n",
    "    VOCAB_SIZE = 20000\n",
    "    MAX_LEN = 90\n",
    "    EMBEDDING_DIM = 40"
   ]
  },
  {
   "cell_type": "markdown",
   "metadata": {},
   "source": [
    "## Data\n",
    "\n",
    "The movie reviews dataset is already attached to your workspace (if you want to attach your own data, [check out our docs](https://docs.floydhub.com/guides/workspace/#attaching-floydhub-datasets)).\n",
    "\n",
    "Let's take a look at data. The labels are encoded in the dataset: **0** is for *negative* and **1** for a *positive* review."
   ]
  },
  {
   "cell_type": "code",
   "execution_count": 6,
   "metadata": {},
   "outputs": [
    {
     "name": "stdout",
     "output_type": "stream",
     "text": [
      "Train shape (rows, columns):  (25000, 2) , Validation shape (rows, columns):  (25000, 2)\n",
      "\n",
      "--- First Sample ---\n",
      "Label: 0\n",
      "Text: Watch the Original with the same title from 1944! This made for TV movie, is just god-awful! Although it does use (as far as I can tell) almost the same dialog, it just doesn't work! Is it the acting, the poor directing? OK so it's made for TV, but why watch a bad copy, when you can get your hands on the superb original? Especially as you'll be spoiled to the plot and won't enjoy the original as much, as if you've watched it first! <br /><br />There are a few things that are different from the original (it's shorter for once), but all are for the worse! The actors playing the parts here, just don't fit the bill! You just don't believe them and who could top Edward G. Robinsons performance from the original? If you want, only watch it after you've seen the original and even then you'll be very brave, if you watch it through! It's almost sacrilege!\n"
     ]
    }
   ],
   "source": [
    "DS_PATH = '../data/imdb/' # ADD path/to/dataset\n",
    "LABELS = ['negative', 'positive']\n",
    "\n",
    "# Load data\n",
    "train = pd.read_csv(os.path.join(DS_PATH, \"train.tsv\"), sep='\\t')  # EDIT WITH YOUR TRAIN FILE NAME\n",
    "val = pd.read_csv(os.path.join(DS_PATH, \"val.tsv\"), sep='\\t')  # EDIT WITH YOUR VALIDATION FILE NAME\n",
    "\n",
    "print(\"Train shape (rows, columns): \", train.shape, \", Validation shape (rows, columns): \",  val.shape)\n",
    "\n",
    "# How a row/sample looks like\n",
    "print(\"\\n--- First Sample ---\")\n",
    "print('Label:', train['label'][0])\n",
    "print('Text:', train['text'][0])"
   ]
  },
  {
   "cell_type": "code",
   "execution_count": 7,
   "metadata": {},
   "outputs": [
    {
     "data": {
      "image/png": "[encoded data removed]",
      "text/plain": [
       "<Figure size 432x288 with 1 Axes>"
      ]
     },
     "metadata": {
      "needs_background": "light"
     },
     "output_type": "display_data"
    }
   ],
   "source": [
    "# Custom Tokenizer\n",
    "re_tok = re.compile(f'([{string.punctuation}“”¨«»®´·º½¾¿¡§£₤‘’])')\n",
    "def tokenize(s): return re_tok.sub(r' \\1 ', s).split()\n",
    "\n",
    "# Plot sentence by lenght\n",
    "plt.hist([len(tokenize(s)) for s in train['text'].values], bins=50)\n",
    "plt.title('Tokens per sentence')\n",
    "plt.xlabel('Len (number of token)')\n",
    "plt.ylabel('# samples')\n",
    "plt.show()"
   ]
  },
  {
   "cell_type": "markdown",
   "metadata": {},
   "source": [
    "## Data Preprocessing\n",
    "\n",
    "Before feeding the data into the model, we have to preprocess the text. \n",
    "\n",
    "- We will use the Keras `Tokenizer` to convert each word to a corresponding integer ID. Representing words as integers saves a lot of memory!\n",
    "- In order to feed the text into our CNN, all texts should be the same length. We ensure this using the `sequence.pad_sequences()` method and `MAX_LEN` variable. All texts longer than `MAX_LEN` are truncated and shorter texts are padded to get them to the same length.\n",
    "\n",
    "The *Tokens per sentence* plot (see above) is useful for setting the `MAX_LEN` training hyperparameter. "
   ]
  },
  {
   "cell_type": "code",
   "execution_count": 8,
   "metadata": {},
   "outputs": [
    {
     "name": "stdout",
     "output_type": "stream",
     "text": [
      "First sample before preprocessing: \n",
      " Watch the Original with the same title from 1944! This made for TV movie, is just god-awful! Although it does use (as far as I can tell) almost the same dialog, it just doesn't work! Is it the acting, the poor directing? OK so it's made for TV, but why watch a bad copy, when you can get your hands on the superb original? Especially as you'll be spoiled to the plot and won't enjoy the original as much, as if you've watched it first! <br /><br />There are a few things that are different from the original (it's shorter for once), but all are for the worse! The actors playing the parts here, just don't fit the bill! You just don't believe them and who could top Edward G. Robinsons performance from the original? If you want, only watch it after you've seen the original and even then you'll be very brave, if you watch it through! It's almost sacrilege! \n",
      "\n",
      "First sample after preprocessing: \n",
      " [   5    1  111    2  525  354    1  201   14   73   14   44  871  293\n",
      "    9   83    7    7   47   23    3  168  180   12   23  272   36    1\n",
      "  201   42 5844   15  277   18   29   23   15    1  430    1  153  392\n",
      "    1  528  130   40   89 1180    1  985   22   40   89  261   95    2\n",
      "   34   97  347 2485 1328  236   36    1  201   44   22  178   61  103\n",
      "    9  100  871  107    1  201    2   57   92  487   27   52 2502   44\n",
      "   22  103    9  140   42  217]\n"
     ]
    }
   ],
   "source": [
    "imdb_tokenizer = Tokenizer(num_words=VOCAB_SIZE)\n",
    "imdb_tokenizer.fit_on_texts(train['text'].values)\n",
    "\n",
    "x_train_seq = imdb_tokenizer.texts_to_sequences(train['text'].values)\n",
    "x_val_seq = imdb_tokenizer.texts_to_sequences(val['text'].values)\n",
    "\n",
    "x_train = sequence.pad_sequences(x_train_seq, maxlen=MAX_LEN, padding=\"post\", value=0)\n",
    "x_val = sequence.pad_sequences(x_val_seq, maxlen=MAX_LEN, padding=\"post\", value=0)\n",
    "\n",
    "y_train, y_val = train['label'].values, val['label'].values\n",
    "\n",
    "print('First sample before preprocessing: \\n', train['text'].values[0], '\\n')\n",
    "print('First sample after preprocessing: \\n', x_train[0])"
   ]
  },
  {
   "cell_type": "markdown",
   "metadata": {},
   "source": [
    "## Model\n",
    "\n",
    "We will implement a model similar to Kim Yoon’s [Convolutional Neural Networks for Sentence Classification](https://arxiv.org/abs/1408.5882).\n",
    "\n",
    "![cnn for text](https://github.com/floydhub/sentiment-analysis-template/raw/master/images/cnn.png)\n",
    "*Image from [the paper](https://arxiv.org/abs/1408.5882)*"
   ]
  },
  {
   "cell_type": "code",
   "execution_count": 9,
   "metadata": {},
   "outputs": [],
   "source": [
    "# Model Parameters - You can play with these\n",
    "\n",
    "NUM_FILTERS = 250\n",
    "KERNEL_SIZE = 3\n",
    "HIDDEN_DIMS = 250"
   ]
  },
  {
   "cell_type": "code",
   "execution_count": 10,
   "metadata": {},
   "outputs": [
    {
     "name": "stdout",
     "output_type": "stream",
     "text": [
      "Build model...\n",
      "_________________________________________________________________\n",
      "Layer (type)                 Output Shape              Param #   \n",
      "=================================================================\n",
      "embedding_1 (Embedding)      (None, 90, 40)            800000    \n",
      "_________________________________________________________________\n",
      "dropout_1 (Dropout)          (None, 90, 40)            0         \n",
      "_________________________________________________________________\n",
      "conv1d_1 (Conv1D)            (None, 88, 250)           30250     \n",
      "_________________________________________________________________\n",
      "global_max_pooling1d_1 (Glob (None, 250)               0         \n",
      "_________________________________________________________________\n",
      "dense_1 (Dense)              (None, 250)               62750     \n",
      "_________________________________________________________________\n",
      "dropout_2 (Dropout)          (None, 250)               0         \n",
      "_________________________________________________________________\n",
      "activation_1 (Activation)    (None, 250)               0         \n",
      "_________________________________________________________________\n",
      "dense_2 (Dense)              (None, 1)                 251       \n",
      "_________________________________________________________________\n",
      "activation_2 (Activation)    (None, 1)                 0         \n",
      "=================================================================\n",
      "Total params: 893,251\n",
      "Trainable params: 893,251\n",
      "Non-trainable params: 0\n",
      "_________________________________________________________________\n"
     ]
    }
   ],
   "source": [
    "# CNN Model\n",
    "print('Build model...')\n",
    "model = Sequential()\n",
    "\n",
    "# we start off with an efficient embedding layer which maps\n",
    "# our vocab indices into EMBEDDING_DIM dimensions\n",
    "model.add(Embedding(VOCAB_SIZE, EMBEDDING_DIM, input_length=MAX_LEN))\n",
    "model.add(Dropout(0.2))\n",
    "\n",
    "# we add a Convolution1D, which will learn NUM_FILTERS filters\n",
    "model.add(Conv1D(NUM_FILTERS,\n",
    "                 KERNEL_SIZE,\n",
    "                 padding='valid',\n",
    "                 activation='relu',\n",
    "                 strides=1))\n",
    "\n",
    "# we use max pooling:\n",
    "model.add(GlobalMaxPooling1D())\n",
    "\n",
    "# We add a vanilla hidden layer:\n",
    "model.add(Dense(HIDDEN_DIMS))\n",
    "model.add(Dropout(0.2))\n",
    "model.add(Activation('relu'))\n",
    "\n",
    "# We project onto a single unit output layer, and squash it with a sigmoid:\n",
    "model.add(Dense(1))\n",
    "model.add(Activation('sigmoid'))\n",
    "model.compile(loss='binary_crossentropy', optimizer='adam', metrics=['accuracy'])\n",
    "model.summary()"
   ]
  },
  {
   "cell_type": "markdown",
   "metadata": {},
   "source": [
    "## Train & Evaluate\n",
    "\n",
    "If you left the default hyperpameters in the Notebook untouched, your training should take approximately: \n",
    "\n",
    "- On CPU machine: 2 minutes for 2 epochs.\n",
    "- On GPU machine: 1 minute for 2 epochs.\n",
    "\n",
    "You should get an accuracy of > 84%. *Note*: The model will start overfitting after 2 to 3 epochs. "
   ]
  },
  {
   "cell_type": "code",
   "execution_count": 11,
   "metadata": {},
   "outputs": [
    {
     "name": "stdout",
     "output_type": "stream",
     "text": [
      "Train on 22500 samples, validate on 2500 samples\n",
      "Epoch 1/2\n",
      " - 26s - loss: 0.4741 - acc: 0.7484 - val_loss: 0.3589 - val_acc: 0.8408\n",
      "Epoch 2/2\n",
      " - 25s - loss: 0.2751 - acc: 0.8858 - val_loss: 0.3503 - val_acc: 0.8456\n",
      "25000/25000 [==============================] - 3s 134us/step\n",
      "\n",
      "Accuracy:  85.16\n"
     ]
    }
   ],
   "source": [
    "# fit a model\n",
    "model.fit(x_train, y_train,\n",
    "          batch_size=BATCH_SIZE,\n",
    "          epochs=EPOCHS,\n",
    "          validation_split=0.1,\n",
    "          verbose=2)\n",
    "\n",
    "# Evaluate the model\n",
    "score, acc = model.evaluate(x_val, y_val, batch_size=BATCH_SIZE)\n",
    "print('\\nAccuracy: ', acc*100)\n",
    "\n",
    "pred = model.predict_classes(x_val)"
   ]
  },
  {
   "cell_type": "code",
   "execution_count": 13,
   "metadata": {},
   "outputs": [
    {
     "name": "stdout",
     "output_type": "stream",
     "text": [
      "              precision    recall  f1-score   support\n",
      "\n",
      "    negative       0.81      0.88      0.85     11450\n",
      "    positive       0.89      0.82      0.86     13550\n",
      "\n",
      "   micro avg       0.85      0.85      0.85     25000\n",
      "   macro avg       0.85      0.85      0.85     25000\n",
      "weighted avg       0.86      0.85      0.85     25000\n",
      "\n"
     ]
    },
    {
     "data": {
      "image/png": "[encoded data removed]",
      "text/plain": [
       "<Figure size 720x504 with 2 Axes>"
      ]
     },
     "metadata": {
      "needs_background": "light"
     },
     "output_type": "display_data"
    }
   ],
   "source": [
    "# Plot confusion matrix\n",
    "from sklearn.metrics import confusion_matrix\n",
    "from support import print_confusion_matrix\n",
    "cnf_matrix = confusion_matrix(pred, y_val)\n",
    "_ = print_confusion_matrix(cnf_matrix, LABELS)\n",
    "\n",
    "# Print Precision Recall F1-Score Report\n",
    "from sklearn.metrics import classification_report\n",
    "\n",
    "report = classification_report(pred, y_val, target_names=LABELS)\n",
    "print(report)"
   ]
  },
  {
   "cell_type": "markdown",
   "metadata": {},
   "source": [
    "## It's your turn"
   ]
  },
  {
   "cell_type": "markdown",
   "metadata": {},
   "source": [
    "Test out the model you just trained. Edit the `my_review` variable and Run the Code cell below. Have fun!🎉\n",
    "\n",
    "Here are some inspirations:\n",
    "- Rian Johnson\\'s Star Wars: The Last Jedi is a satisfying, at times transporting entertainment with visual wit and a distinctly human touch. \n",
    "- All evidence points to this animated film being contrived as a money-making scheme. The result is worse than crass, it\\'s abominably bad.\n",
    "- It was inevitable that there would be the odd turkey in there. What I didn\\'t realise however, was that there could be one THIS bad.\n",
    "\n",
    "And some wrong predictions:\n",
    "- Pulp Fiction: Quentin Tarantino proves that he is the master of witty dialogue and a fast plot that doesn\\'t allow the viewer a moment of boredom or rest.\n",
    "\n",
    "Can you do better? Play around with the model hyperparameters!"
   ]
  },
  {
   "cell_type": "code",
   "execution_count": 14,
   "metadata": {},
   "outputs": [
    {
     "data": {
      "application/vnd.jupyter.widget-view+json": {
       "model_id": "cf2ece21782941948a4bf0f7970da8ff",
       "version_major": 2,
       "version_minor": 0
      },
      "text/plain": [
       "interactive(children=(Textarea(value='', description='review', placeholder='Type your Review here'), Button(de…"
      ]
     },
     "metadata": {},
     "output_type": "display_data"
    }
   ],
   "source": [
    "from ipywidgets import interact_manual\n",
    "from ipywidgets import widgets\n",
    "\n",
    "def get_prediction(review):\n",
    "    # Preprocessing\n",
    "    review_np_array = imdb_tokenizer.texts_to_sequences([review])\n",
    "    review_np_array = sequence.pad_sequences(review_np_array, maxlen=MAX_LEN, padding=\"post\", value=0)\n",
    "    # Prediction\n",
    "    score = model.predict(review_np_array)[0][0]\n",
    "    prediction = LABELS[model.predict_classes(review_np_array)[0][0]]\n",
    "    print('REVIEW:', review, '\\nPREDICTION:', prediction, '\\nSCORE: ', score)\n",
    "\n",
    "interact_manual(get_prediction, review=widgets.Textarea(placeholder='Type your Review here'));"
   ]
  },
  {
   "cell_type": "markdown",
   "metadata": {},
   "source": [
    "## Save the result"
   ]
  },
  {
   "cell_type": "code",
   "execution_count": 12,
   "metadata": {},
   "outputs": [],
   "source": [
    "import pickle\n",
    "\n",
    "# Saving Tokenizer\n",
    "with open('models/tokenizer.pickle', 'wb') as handle:\n",
    "    pickle.dump(imdb_tokenizer, handle, protocol=pickle.HIGHEST_PROTOCOL)\n",
    " \n",
    "# Saving Model Weight\n",
    "model.save_weights('models/cnn_sentiment_weights.h5')"
   ]
  },
  {
   "cell_type": "markdown",
   "metadata": {},
   "source": [
    "##### That's all folks - don't forget to shutdown your workspace once you're done 🙂"
   ]
  }
 ],
 "metadata": {
  "kernelspec": {
   "display_name": "Python 3",
   "language": "python",
   "name": "python3"
  },
  "language_info": {
   "codemirror_mode": {
    "name": "ipython",
    "version": 3
   },
   "file_extension": ".py",
   "mimetype": "text/x-python",
   "name": "python",
   "nbconvert_exporter": "python",
   "pygments_lexer": "ipython3",
   "version": "3.6.5"
  }
 },
 "nbformat": 4,
 "nbformat_minor": 2
}
