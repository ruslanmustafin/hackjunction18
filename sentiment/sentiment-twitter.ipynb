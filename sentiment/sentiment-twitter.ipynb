{
 "cells": [
  {
   "cell_type": "markdown",
   "metadata": {},
   "source": [
    "## Initial Setup\n",
    "\n",
    "Let's start by importing some packages"
   ]
  },
  {
   "cell_type": "code",
   "execution_count": 1,
   "metadata": {},
   "outputs": [
    {
     "name": "stderr",
     "output_type": "stream",
     "text": [
      "Using TensorFlow backend.\n"
     ]
    }
   ],
   "source": [
    "from keras.preprocessing import sequence\n",
    "from keras.models import Sequential\n",
    "from keras.layers import Dense, Embedding, GlobalMaxPooling1D, Flatten, Conv1D, Dropout, Activation\n",
    "from keras.preprocessing.text import Tokenizer\n",
    "\n",
    "import tensorflow as tf\n",
    "import matplotlib.pyplot as plt\n",
    "import numpy as np\n",
    "import pandas as pd\n",
    "\n",
    "import os\n",
    "import re\n",
    "import string\n",
    "\n",
    "# For reproducibility\n",
    "from tensorflow import set_random_seed\n",
    "from numpy.random import seed\n",
    "seed(1)\n",
    "set_random_seed(2)"
   ]
  },
  {
   "cell_type": "markdown",
   "metadata": {},
   "source": [
    "## Training Parameters\n",
    "\n",
    "We'll set the hyperparameters for training our model. If you understand what they mean, feel free to play around - otherwise, we recommend keeping the defaults for your first run 🙂"
   ]
  },
  {
   "cell_type": "code",
   "execution_count": 2,
   "metadata": {},
   "outputs": [],
   "source": [
    "# Hyperparams if GPU is available\n",
    "if tf.test.is_gpu_available():\n",
    "    # GPU\n",
    "    BATCH_SIZE = 128 # Number of examples used in each iteration\n",
    "    EPOCHS = 2 # Number of passes through entire dataset\n",
    "    VOCAB_SIZE = 30000 # Size of vocabulary dictionary\n",
    "    MAX_LEN = 500 # Max length of review (in words)\n",
    "    EMBEDDING_DIM = 40 # Dimension of word embedding vector\n",
    "\n",
    "# Hyperparams for CPU training\n",
    "else:\n",
    "    # CPU\n",
    "    BATCH_SIZE = 32\n",
    "    EPOCHS = 2\n",
    "    VOCAB_SIZE = 20000\n",
    "    MAX_LEN = 90\n",
    "    EMBEDDING_DIM = 40"
   ]
  },
  {
   "cell_type": "markdown",
   "metadata": {},
   "source": [
    "## Data\n",
    "\n",
    "The movie reviews dataset is already attached to your workspace (if you want to attach your own data, [check out our docs](https://docs.floydhub.com/guides/workspace/#attaching-floydhub-datasets)).\n",
    "\n",
    "Let's take a look at data. The labels are encoded in the dataset: **0** is for *negative* and **1** for a *positive* review."
   ]
  },
  {
   "cell_type": "code",
   "execution_count": 5,
   "metadata": {},
   "outputs": [
    {
     "name": "stdout",
     "output_type": "stream",
     "text": [
      "Train shape (rows, columns):  (1600000, 2) , Validation shape (rows, columns):  (498, 2)\n",
      "\n",
      "--- First Sample ---\n",
      "Label: 0\n",
      "Text: @switchfoot http://twitpic.com/2y1zl - Awww, that's a bummer.  You shoulda got David Carr of Third Day to do it. ;D\n"
     ]
    }
   ],
   "source": [
    "DS_PATH = '../data/twitter/' # ADD path/to/dataset\n",
    "LABELS = ['negative', 'neutral', 'positive']\n",
    "\n",
    "# Load data\n",
    "train = pd.read_csv(os.path.join(DS_PATH, \"train.tsv\"), sep='\\t')  # EDIT WITH YOUR TRAIN FILE NAME\n",
    "val = pd.read_csv(os.path.join(DS_PATH, \"val.tsv\"), sep='\\t')  # EDIT WITH YOUR VALIDATION FILE NAME\n",
    "\n",
    "print(\"Train shape (rows, columns): \", train.shape, \", Validation shape (rows, columns): \",  val.shape)\n",
    "\n",
    "# How a row/sample looks like\n",
    "print(\"\\n--- First Sample ---\")\n",
    "print('Label:', train['label'][0])\n",
    "print('Text:', train['text'][0])"
   ]
  },
  {
   "cell_type": "code",
   "execution_count": 6,
   "metadata": {},
   "outputs": [
    {
     "data": {
      "image/png": "[encoded data removed]",
      "text/plain": [
       "<Figure size 432x288 with 1 Axes>"
      ]
     },
     "metadata": {
      "needs_background": "light"
     },
     "output_type": "display_data"
    }
   ],
   "source": [
    "# Custom Tokenizer\n",
    "re_tok = re.compile(f'([{string.punctuation}“”¨«»®´·º½¾¿¡§£₤‘’])')\n",
    "def tokenize(s): return re_tok.sub(r' \\1 ', s).split()\n",
    "\n",
    "# Plot sentence by lenght\n",
    "plt.hist([len(tokenize(s)) for s in train['text'].values], bins=50)\n",
    "plt.title('Tokens per sentence')\n",
    "plt.xlabel('Len (number of token)')\n",
    "plt.ylabel('# samples')\n",
    "plt.show()"
   ]
  },
  {
   "cell_type": "markdown",
   "metadata": {},
   "source": [
    "## Data Preprocessing\n",
    "\n",
    "Before feeding the data into the model, we have to preprocess the text. \n",
    "\n",
    "- We will use the Keras `Tokenizer` to convert each word to a corresponding integer ID. Representing words as integers saves a lot of memory!\n",
    "- In order to feed the text into our CNN, all texts should be the same length. We ensure this using the `sequence.pad_sequences()` method and `MAX_LEN` variable. All texts longer than `MAX_LEN` are truncated and shorter texts are padded to get them to the same length.\n",
    "\n",
    "The *Tokens per sentence* plot (see above) is useful for setting the `MAX_LEN` training hyperparameter. "
   ]
  },
  {
   "cell_type": "code",
   "execution_count": 7,
   "metadata": {},
   "outputs": [
    {
     "name": "stdout",
     "output_type": "stream",
     "text": [
      "First sample before preprocessing: \n",
      " @switchfoot http://twitpic.com/2y1zl - Awww, that's a bummer.  You shoulda got David Carr of Third Day to do it. ;D \n",
      "\n",
      "First sample after preprocessing: \n",
      " [   39   147    56   473   144     4  1221     7  3659    48   828 10316\n",
      "    12  1955    30     2    41     9   385     0     0     0     0     0\n",
      "     0     0     0     0     0     0     0     0     0     0     0     0\n",
      "     0     0     0     0     0     0     0     0     0     0     0     0\n",
      "     0     0     0     0     0     0     0     0     0     0     0     0\n",
      "     0     0     0     0     0     0     0     0     0     0     0     0\n",
      "     0     0     0     0     0     0     0     0     0     0     0     0\n",
      "     0     0     0     0     0     0]\n"
     ]
    }
   ],
   "source": [
    "imdb_tokenizer = Tokenizer(num_words=VOCAB_SIZE)\n",
    "imdb_tokenizer.fit_on_texts(train['text'].values)\n",
    "\n",
    "x_train_seq = imdb_tokenizer.texts_to_sequences(train['text'].values)\n",
    "x_val_seq = imdb_tokenizer.texts_to_sequences(val['text'].values)\n",
    "\n",
    "x_train = sequence.pad_sequences(x_train_seq, maxlen=MAX_LEN, padding=\"post\", value=0)\n",
    "x_val = sequence.pad_sequences(x_val_seq, maxlen=MAX_LEN, padding=\"post\", value=0)\n",
    "\n",
    "y_train, y_val = train['label'].values, val['label'].values\n",
    "\n",
    "print('First sample before preprocessing: \\n', train['text'].values[0], '\\n')\n",
    "print('First sample after preprocessing: \\n', x_train[0])"
   ]
  },
  {
   "cell_type": "markdown",
   "metadata": {},
   "source": [
    "## Model\n",
    "\n",
    "We will implement a model similar to Kim Yoon’s [Convolutional Neural Networks for Sentence Classification](https://arxiv.org/abs/1408.5882).\n",
    "\n",
    "![cnn for text](https://github.com/floydhub/sentiment-analysis-template/raw/master/images/cnn.png)\n",
    "*Image from [the paper](https://arxiv.org/abs/1408.5882)*"
   ]
  },
  {
   "cell_type": "code",
   "execution_count": 8,
   "metadata": {},
   "outputs": [],
   "source": [
    "# Model Parameters - You can play with these\n",
    "\n",
    "NUM_FILTERS = 250\n",
    "KERNEL_SIZE = 3\n",
    "HIDDEN_DIMS = 250"
   ]
  },
  {
   "cell_type": "code",
   "execution_count": 9,
   "metadata": {},
   "outputs": [
    {
     "name": "stdout",
     "output_type": "stream",
     "text": [
      "Build model...\n",
      "_________________________________________________________________\n",
      "Layer (type)                 Output Shape              Param #   \n",
      "=================================================================\n",
      "embedding_1 (Embedding)      (None, 90, 40)            800000    \n",
      "_________________________________________________________________\n",
      "dropout_1 (Dropout)          (None, 90, 40)            0         \n",
      "_________________________________________________________________\n",
      "conv1d_1 (Conv1D)            (None, 88, 250)           30250     \n",
      "_________________________________________________________________\n",
      "global_max_pooling1d_1 (Glob (None, 250)               0         \n",
      "_________________________________________________________________\n",
      "dense_1 (Dense)              (None, 250)               62750     \n",
      "_________________________________________________________________\n",
      "dropout_2 (Dropout)          (None, 250)               0         \n",
      "_________________________________________________________________\n",
      "activation_1 (Activation)    (None, 250)               0         \n",
      "_________________________________________________________________\n",
      "dense_2 (Dense)              (None, 3)                 753       \n",
      "_________________________________________________________________\n",
      "activation_2 (Activation)    (None, 3)                 0         \n",
      "=================================================================\n",
      "Total params: 893,753\n",
      "Trainable params: 893,753\n",
      "Non-trainable params: 0\n",
      "_________________________________________________________________\n"
     ]
    }
   ],
   "source": [
    "# CNN Model\n",
    "print('Build model...')\n",
    "model = Sequential()\n",
    "\n",
    "# we start off with an efficient embedding layer which maps\n",
    "# our vocab indices into EMBEDDING_DIM dimensions\n",
    "model.add(Embedding(VOCAB_SIZE, EMBEDDING_DIM, input_length=MAX_LEN))\n",
    "model.add(Dropout(0.2))\n",
    "\n",
    "# we add a Convolution1D, which will learn NUM_FILTERS filters\n",
    "model.add(Conv1D(NUM_FILTERS,\n",
    "                 KERNEL_SIZE,\n",
    "                 padding='valid',\n",
    "                 activation='relu',\n",
    "                 strides=1))\n",
    "\n",
    "# we use max pooling:\n",
    "model.add(GlobalMaxPooling1D())\n",
    "\n",
    "# We add a vanilla hidden layer:\n",
    "model.add(Dense(HIDDEN_DIMS))\n",
    "model.add(Dropout(0.2))\n",
    "model.add(Activation('relu'))\n",
    "\n",
    "# We project onto a single unit output layer, and squash it with a sigmoid:\n",
    "model.add(Dense(3))\n",
    "model.add(Activation('softmax'))\n",
    "model.compile(loss='categorical_crossentropy', optimizer='adam', metrics=['accuracy'])\n",
    "model.summary()"
   ]
  },
  {
   "cell_type": "markdown",
   "metadata": {},
   "source": [
    "## Train & Evaluate\n",
    "\n",
    "If you left the default hyperpameters in the Notebook untouched, your training should take approximately: \n",
    "\n",
    "- On CPU machine: 2 minutes for 2 epochs.\n",
    "- On GPU machine: 1 minute for 2 epochs.\n",
    "\n",
    "You should get an accuracy of > 84%. *Note*: The model will start overfitting after 2 to 3 epochs. "
   ]
  },
  {
   "cell_type": "code",
   "execution_count": null,
   "metadata": {},
   "outputs": [
    {
     "name": "stdout",
     "output_type": "stream",
     "text": [
      "Train on 1440000 samples, validate on 160000 samples\n",
      "Epoch 1/2\n",
      "1440000/1440000 [==============================] - 1805s 1ms/step - loss: 0.4124 - acc: 0.8125 - val_loss: 0.4304 - val_acc: 0.7773\n",
      "Epoch 2/2\n",
      " 907328/1440000 [=================>............] - ETA: 11:46 - loss: 0.3821 - acc: 0.8301"
     ]
    }
   ],
   "source": [
    "from keras.utils import to_categorical\n",
    "\n",
    "# fit a model\n",
    "model.fit(x_train, to_categorical(y_train),\n",
    "          batch_size=BATCH_SIZE,\n",
    "          epochs=EPOCHS,\n",
    "          validation_split=0.1)\n",
    "\n",
    "# Evaluate the model\n",
    "score, acc = model.evaluate(x_val, y_val, batch_size=BATCH_SIZE)\n",
    "print('\\nAccuracy: ', acc*100)\n",
    "\n",
    "pred = model.predict_classes(x_val)"
   ]
  },
  {
   "cell_type": "code",
   "execution_count": 13,
   "metadata": {},
   "outputs": [
    {
     "name": "stdout",
     "output_type": "stream",
     "text": [
      "              precision    recall  f1-score   support\n",
      "\n",
      "    negative       0.81      0.88      0.85     11450\n",
      "    positive       0.89      0.82      0.86     13550\n",
      "\n",
      "   micro avg       0.85      0.85      0.85     25000\n",
      "   macro avg       0.85      0.85      0.85     25000\n",
      "weighted avg       0.86      0.85      0.85     25000\n",
      "\n"
     ]
    },
    {
     "data": {
      "image/png": "[encoded data removed]",
      "text/plain": [
       "<Figure size 720x504 with 2 Axes>"
      ]
     },
     "metadata": {
      "needs_background": "light"
     },
     "output_type": "display_data"
    }
   ],
   "source": [
    "# Plot confusion matrix\n",
    "from sklearn.metrics import confusion_matrix\n",
    "from support import print_confusion_matrix\n",
    "cnf_matrix = confusion_matrix(pred, y_val)\n",
    "_ = print_confusion_matrix(cnf_matrix, LABELS)\n",
    "\n",
    "# Print Precision Recall F1-Score Report\n",
    "from sklearn.metrics import classification_report\n",
    "\n",
    "report = classification_report(pred, y_val, target_names=LABELS)\n",
    "print(report)"
   ]
  },
  {
   "cell_type": "markdown",
   "metadata": {},
   "source": [
    "## It's your turn"
   ]
  },
  {
   "cell_type": "markdown",
   "metadata": {},
   "source": [
    "Test out the model you just trained. Edit the `my_review` variable and Run the Code cell below. Have fun!🎉\n",
    "\n",
    "Here are some inspirations:\n",
    "- Rian Johnson\\'s Star Wars: The Last Jedi is a satisfying, at times transporting entertainment with visual wit and a distinctly human touch. \n",
    "- All evidence points to this animated film being contrived as a money-making scheme. The result is worse than crass, it\\'s abominably bad.\n",
    "- It was inevitable that there would be the odd turkey in there. What I didn\\'t realise however, was that there could be one THIS bad.\n",
    "\n",
    "And some wrong predictions:\n",
    "- Pulp Fiction: Quentin Tarantino proves that he is the master of witty dialogue and a fast plot that doesn\\'t allow the viewer a moment of boredom or rest.\n",
    "\n",
    "Can you do better? Play around with the model hyperparameters!"
   ]
  },
  {
   "cell_type": "code",
   "execution_count": 14,
   "metadata": {},
   "outputs": [
    {
     "data": {
      "application/vnd.jupyter.widget-view+json": {
       "model_id": "cf2ece21782941948a4bf0f7970da8ff",
       "version_major": 2,
       "version_minor": 0
      },
      "text/plain": [
       "interactive(children=(Textarea(value='', description='review', placeholder='Type your Review here'), Button(de…"
      ]
     },
     "metadata": {},
     "output_type": "display_data"
    }
   ],
   "source": [
    "from ipywidgets import interact_manual\n",
    "from ipywidgets import widgets\n",
    "\n",
    "def get_prediction(review):\n",
    "    # Preprocessing\n",
    "    review_np_array = imdb_tokenizer.texts_to_sequences([review])\n",
    "    review_np_array = sequence.pad_sequences(review_np_array, maxlen=MAX_LEN, padding=\"post\", value=0)\n",
    "    # Prediction\n",
    "    score = model.predict(review_np_array)[0][0]\n",
    "    prediction = LABELS[model.predict_classes(review_np_array)[0][0]]\n",
    "    print('REVIEW:', review, '\\nPREDICTION:', prediction, '\\nSCORE: ', score)\n",
    "\n",
    "interact_manual(get_prediction, review=widgets.Textarea(placeholder='Type your Review here'));"
   ]
  },
  {
   "cell_type": "markdown",
   "metadata": {},
   "source": [
    "## Save the result"
   ]
  },
  {
   "cell_type": "code",
   "execution_count": 12,
   "metadata": {},
   "outputs": [],
   "source": [
    "import pickle\n",
    "\n",
    "# Saving Tokenizer\n",
    "with open('models/tokenizer.pickle', 'wb') as handle:\n",
    "    pickle.dump(imdb_tokenizer, handle, protocol=pickle.HIGHEST_PROTOCOL)\n",
    " \n",
    "# Saving Model Weight\n",
    "model.save_weights('models/cnn_sentiment_weights.h5')"
   ]
  },
  {
   "cell_type": "markdown",
   "metadata": {},
   "source": [
    "##### That's all folks - don't forget to shutdown your workspace once you're done 🙂"
   ]
  }
 ],
 "metadata": {
  "kernelspec": {
   "display_name": "Python 3",
   "language": "python",
   "name": "python3"
  },
  "language_info": {
   "codemirror_mode": {
    "name": "ipython",
    "version": 3
   },
   "file_extension": ".py",
   "mimetype": "text/x-python",
   "name": "python",
   "nbconvert_exporter": "python",
   "pygments_lexer": "ipython3",
   "version": "3.6.5"
  }
 },
 "nbformat": 4,
 "nbformat_minor": 2
}
